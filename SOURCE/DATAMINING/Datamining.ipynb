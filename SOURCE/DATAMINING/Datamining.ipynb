{
  "cells": [
    {
      "attachments": {},
      "cell_type": "markdown",
      "metadata": {
        "id": "GWU1wQE10htt"
      },
      "source": [
        "## IMPORT THƯ VIỆN VÀ DATASET"
      ]
    },
    {
      "cell_type": "code",
      "execution_count": 1,
      "metadata": {
        "id": "Qrmoj0TypL6M"
      },
      "outputs": [],
      "source": [
        "import pandas as pd\n",
        "import numpy as np\n",
        "from sklearn.ensemble import RandomForestClassifier\n",
        "from sklearn.tree import DecisionTreeClassifier\n",
        "from sklearn.impute import SimpleImputer\n",
        "from sklearn.model_selection import train_test_split\n",
        "import matplotlib as mpl\n",
        "import matplotlib.pyplot as plt\n",
        "import seaborn as sns\n",
        "\n",
        "cmap = sns.diverging_palette(0, 230, 90, 60, as_cmap=True)\n",
        "sns.set(rc = {'figure.figsize':(10,7)})"
      ]
    },
    {
      "cell_type": "code",
      "execution_count": 2,
      "metadata": {
        "colab": {
          "base_uri": "https://localhost:8080/",
          "height": 522
        },
        "id": "ALBqEl-FpL6O",
        "outputId": "94235155-32dd-4ff1-b37a-fb66c2b99eb4"
      },
      "outputs": [
        {
          "data": {
            "text/html": [
              "<div>\n",
              "<style scoped>\n",
              "    .dataframe tbody tr th:only-of-type {\n",
              "        vertical-align: middle;\n",
              "    }\n",
              "\n",
              "    .dataframe tbody tr th {\n",
              "        vertical-align: top;\n",
              "    }\n",
              "\n",
              "    .dataframe thead th {\n",
              "        text-align: right;\n",
              "    }\n",
              "</style>\n",
              "<table border=\"1\" class=\"dataframe\">\n",
              "  <thead>\n",
              "    <tr style=\"text-align: right;\">\n",
              "      <th></th>\n",
              "      <th>User_ID</th>\n",
              "      <th>Year_Birth</th>\n",
              "      <th>Education</th>\n",
              "      <th>Marital_Status</th>\n",
              "      <th>Income</th>\n",
              "      <th>Kidhome</th>\n",
              "      <th>Teenhome</th>\n",
              "      <th>Date_Enroll</th>\n",
              "      <th>Recency</th>\n",
              "      <th>MntWines</th>\n",
              "      <th>...</th>\n",
              "      <th>Num_StorePur</th>\n",
              "      <th>Num_WebVisitsMonth</th>\n",
              "      <th>Acpt_Cmp3</th>\n",
              "      <th>Acpt_Cmp4</th>\n",
              "      <th>Acpt_Cmp5</th>\n",
              "      <th>Acpt_Cmp1</th>\n",
              "      <th>Acpt_Cmp2</th>\n",
              "      <th>Complain</th>\n",
              "      <th>Response</th>\n",
              "      <th>Country</th>\n",
              "    </tr>\n",
              "  </thead>\n",
              "  <tbody>\n",
              "    <tr>\n",
              "      <th>0</th>\n",
              "      <td>5524</td>\n",
              "      <td>1957</td>\n",
              "      <td>Graduation</td>\n",
              "      <td>Single</td>\n",
              "      <td>58138.0</td>\n",
              "      <td>0</td>\n",
              "      <td>0</td>\n",
              "      <td>2012-09-04</td>\n",
              "      <td>58</td>\n",
              "      <td>635.0</td>\n",
              "      <td>...</td>\n",
              "      <td>4</td>\n",
              "      <td>7</td>\n",
              "      <td>0</td>\n",
              "      <td>0</td>\n",
              "      <td>0</td>\n",
              "      <td>0</td>\n",
              "      <td>0</td>\n",
              "      <td>0</td>\n",
              "      <td>1</td>\n",
              "      <td>Spain</td>\n",
              "    </tr>\n",
              "    <tr>\n",
              "      <th>1</th>\n",
              "      <td>2174</td>\n",
              "      <td>1954</td>\n",
              "      <td>Graduation</td>\n",
              "      <td>Single</td>\n",
              "      <td>46344.0</td>\n",
              "      <td>1</td>\n",
              "      <td>1</td>\n",
              "      <td>2014-03-08</td>\n",
              "      <td>38</td>\n",
              "      <td>11.0</td>\n",
              "      <td>...</td>\n",
              "      <td>2</td>\n",
              "      <td>5</td>\n",
              "      <td>0</td>\n",
              "      <td>0</td>\n",
              "      <td>0</td>\n",
              "      <td>0</td>\n",
              "      <td>0</td>\n",
              "      <td>0</td>\n",
              "      <td>0</td>\n",
              "      <td>Canada</td>\n",
              "    </tr>\n",
              "    <tr>\n",
              "      <th>2</th>\n",
              "      <td>4141</td>\n",
              "      <td>1965</td>\n",
              "      <td>Graduation</td>\n",
              "      <td>Together</td>\n",
              "      <td>71613.0</td>\n",
              "      <td>0</td>\n",
              "      <td>0</td>\n",
              "      <td>2013-08-21</td>\n",
              "      <td>26</td>\n",
              "      <td>426.0</td>\n",
              "      <td>...</td>\n",
              "      <td>10</td>\n",
              "      <td>4</td>\n",
              "      <td>0</td>\n",
              "      <td>0</td>\n",
              "      <td>0</td>\n",
              "      <td>0</td>\n",
              "      <td>0</td>\n",
              "      <td>0</td>\n",
              "      <td>0</td>\n",
              "      <td>United States</td>\n",
              "    </tr>\n",
              "    <tr>\n",
              "      <th>3</th>\n",
              "      <td>6182</td>\n",
              "      <td>1984</td>\n",
              "      <td>Graduation</td>\n",
              "      <td>Together</td>\n",
              "      <td>26646.0</td>\n",
              "      <td>1</td>\n",
              "      <td>0</td>\n",
              "      <td>2014-02-10</td>\n",
              "      <td>26</td>\n",
              "      <td>11.0</td>\n",
              "      <td>...</td>\n",
              "      <td>4</td>\n",
              "      <td>6</td>\n",
              "      <td>0</td>\n",
              "      <td>0</td>\n",
              "      <td>0</td>\n",
              "      <td>0</td>\n",
              "      <td>0</td>\n",
              "      <td>0</td>\n",
              "      <td>0</td>\n",
              "      <td>Australia</td>\n",
              "    </tr>\n",
              "    <tr>\n",
              "      <th>4</th>\n",
              "      <td>5324</td>\n",
              "      <td>1981</td>\n",
              "      <td>PhD</td>\n",
              "      <td>Married</td>\n",
              "      <td>58293.0</td>\n",
              "      <td>1</td>\n",
              "      <td>0</td>\n",
              "      <td>2014-01-19</td>\n",
              "      <td>94</td>\n",
              "      <td>173.0</td>\n",
              "      <td>...</td>\n",
              "      <td>6</td>\n",
              "      <td>5</td>\n",
              "      <td>0</td>\n",
              "      <td>0</td>\n",
              "      <td>0</td>\n",
              "      <td>0</td>\n",
              "      <td>0</td>\n",
              "      <td>0</td>\n",
              "      <td>0</td>\n",
              "      <td>Spain</td>\n",
              "    </tr>\n",
              "    <tr>\n",
              "      <th>...</th>\n",
              "      <td>...</td>\n",
              "      <td>...</td>\n",
              "      <td>...</td>\n",
              "      <td>...</td>\n",
              "      <td>...</td>\n",
              "      <td>...</td>\n",
              "      <td>...</td>\n",
              "      <td>...</td>\n",
              "      <td>...</td>\n",
              "      <td>...</td>\n",
              "      <td>...</td>\n",
              "      <td>...</td>\n",
              "      <td>...</td>\n",
              "      <td>...</td>\n",
              "      <td>...</td>\n",
              "      <td>...</td>\n",
              "      <td>...</td>\n",
              "      <td>...</td>\n",
              "      <td>...</td>\n",
              "      <td>...</td>\n",
              "      <td>...</td>\n",
              "    </tr>\n",
              "    <tr>\n",
              "      <th>2235</th>\n",
              "      <td>10870</td>\n",
              "      <td>1967</td>\n",
              "      <td>Graduation</td>\n",
              "      <td>Married</td>\n",
              "      <td>61223.0</td>\n",
              "      <td>0</td>\n",
              "      <td>1</td>\n",
              "      <td>2013-06-13</td>\n",
              "      <td>46</td>\n",
              "      <td>709.0</td>\n",
              "      <td>...</td>\n",
              "      <td>4</td>\n",
              "      <td>5</td>\n",
              "      <td>0</td>\n",
              "      <td>0</td>\n",
              "      <td>0</td>\n",
              "      <td>0</td>\n",
              "      <td>0</td>\n",
              "      <td>0</td>\n",
              "      <td>0</td>\n",
              "      <td>United States</td>\n",
              "    </tr>\n",
              "    <tr>\n",
              "      <th>2236</th>\n",
              "      <td>4001</td>\n",
              "      <td>1946</td>\n",
              "      <td>PhD</td>\n",
              "      <td>Together</td>\n",
              "      <td>64014.0</td>\n",
              "      <td>2</td>\n",
              "      <td>1</td>\n",
              "      <td>2014-06-10</td>\n",
              "      <td>56</td>\n",
              "      <td>406.0</td>\n",
              "      <td>...</td>\n",
              "      <td>5</td>\n",
              "      <td>7</td>\n",
              "      <td>0</td>\n",
              "      <td>0</td>\n",
              "      <td>0</td>\n",
              "      <td>1</td>\n",
              "      <td>0</td>\n",
              "      <td>0</td>\n",
              "      <td>0</td>\n",
              "      <td>Spain</td>\n",
              "    </tr>\n",
              "    <tr>\n",
              "      <th>2237</th>\n",
              "      <td>7270</td>\n",
              "      <td>1981</td>\n",
              "      <td>Graduation</td>\n",
              "      <td>Divorced</td>\n",
              "      <td>56981.0</td>\n",
              "      <td>0</td>\n",
              "      <td>0</td>\n",
              "      <td>2014-01-25</td>\n",
              "      <td>91</td>\n",
              "      <td>908.0</td>\n",
              "      <td>...</td>\n",
              "      <td>13</td>\n",
              "      <td>6</td>\n",
              "      <td>0</td>\n",
              "      <td>1</td>\n",
              "      <td>0</td>\n",
              "      <td>0</td>\n",
              "      <td>0</td>\n",
              "      <td>0</td>\n",
              "      <td>0</td>\n",
              "      <td>Spain</td>\n",
              "    </tr>\n",
              "    <tr>\n",
              "      <th>2238</th>\n",
              "      <td>8235</td>\n",
              "      <td>1956</td>\n",
              "      <td>Master</td>\n",
              "      <td>Together</td>\n",
              "      <td>69245.0</td>\n",
              "      <td>0</td>\n",
              "      <td>1</td>\n",
              "      <td>2014-01-24</td>\n",
              "      <td>8</td>\n",
              "      <td>428.0</td>\n",
              "      <td>...</td>\n",
              "      <td>10</td>\n",
              "      <td>3</td>\n",
              "      <td>0</td>\n",
              "      <td>0</td>\n",
              "      <td>0</td>\n",
              "      <td>0</td>\n",
              "      <td>0</td>\n",
              "      <td>0</td>\n",
              "      <td>0</td>\n",
              "      <td>India</td>\n",
              "    </tr>\n",
              "    <tr>\n",
              "      <th>2239</th>\n",
              "      <td>9405</td>\n",
              "      <td>1954</td>\n",
              "      <td>PhD</td>\n",
              "      <td>Married</td>\n",
              "      <td>52869.0</td>\n",
              "      <td>1</td>\n",
              "      <td>1</td>\n",
              "      <td>2012-10-15</td>\n",
              "      <td>40</td>\n",
              "      <td>84.0</td>\n",
              "      <td>...</td>\n",
              "      <td>4</td>\n",
              "      <td>7</td>\n",
              "      <td>0</td>\n",
              "      <td>0</td>\n",
              "      <td>0</td>\n",
              "      <td>0</td>\n",
              "      <td>0</td>\n",
              "      <td>0</td>\n",
              "      <td>1</td>\n",
              "      <td>Canada</td>\n",
              "    </tr>\n",
              "  </tbody>\n",
              "</table>\n",
              "<p>2240 rows × 28 columns</p>\n",
              "</div>"
            ],
            "text/plain": [
              "      User_ID  Year_Birth   Education Marital_Status   Income  Kidhome  \\\n",
              "0        5524        1957  Graduation         Single  58138.0        0   \n",
              "1        2174        1954  Graduation         Single  46344.0        1   \n",
              "2        4141        1965  Graduation       Together  71613.0        0   \n",
              "3        6182        1984  Graduation       Together  26646.0        1   \n",
              "4        5324        1981         PhD        Married  58293.0        1   \n",
              "...       ...         ...         ...            ...      ...      ...   \n",
              "2235    10870        1967  Graduation        Married  61223.0        0   \n",
              "2236     4001        1946         PhD       Together  64014.0        2   \n",
              "2237     7270        1981  Graduation       Divorced  56981.0        0   \n",
              "2238     8235        1956      Master       Together  69245.0        0   \n",
              "2239     9405        1954         PhD        Married  52869.0        1   \n",
              "\n",
              "      Teenhome Date_Enroll  Recency  MntWines  ...  Num_StorePur  \\\n",
              "0            0  2012-09-04       58     635.0  ...             4   \n",
              "1            1  2014-03-08       38      11.0  ...             2   \n",
              "2            0  2013-08-21       26     426.0  ...            10   \n",
              "3            0  2014-02-10       26      11.0  ...             4   \n",
              "4            0  2014-01-19       94     173.0  ...             6   \n",
              "...        ...         ...      ...       ...  ...           ...   \n",
              "2235         1  2013-06-13       46     709.0  ...             4   \n",
              "2236         1  2014-06-10       56     406.0  ...             5   \n",
              "2237         0  2014-01-25       91     908.0  ...            13   \n",
              "2238         1  2014-01-24        8     428.0  ...            10   \n",
              "2239         1  2012-10-15       40      84.0  ...             4   \n",
              "\n",
              "      Num_WebVisitsMonth  Acpt_Cmp3  Acpt_Cmp4  Acpt_Cmp5  Acpt_Cmp1  \\\n",
              "0                      7          0          0          0          0   \n",
              "1                      5          0          0          0          0   \n",
              "2                      4          0          0          0          0   \n",
              "3                      6          0          0          0          0   \n",
              "4                      5          0          0          0          0   \n",
              "...                  ...        ...        ...        ...        ...   \n",
              "2235                   5          0          0          0          0   \n",
              "2236                   7          0          0          0          1   \n",
              "2237                   6          0          1          0          0   \n",
              "2238                   3          0          0          0          0   \n",
              "2239                   7          0          0          0          0   \n",
              "\n",
              "      Acpt_Cmp2  Complain  Response        Country  \n",
              "0             0         0         1          Spain  \n",
              "1             0         0         0         Canada  \n",
              "2             0         0         0  United States  \n",
              "3             0         0         0      Australia  \n",
              "4             0         0         0          Spain  \n",
              "...         ...       ...       ...            ...  \n",
              "2235          0         0         0  United States  \n",
              "2236          0         0         0          Spain  \n",
              "2237          0         0         0          Spain  \n",
              "2238          0         0         0          India  \n",
              "2239          0         0         1         Canada  \n",
              "\n",
              "[2240 rows x 28 columns]"
            ]
          },
          "execution_count": 2,
          "metadata": {},
          "output_type": "execute_result"
        }
      ],
      "source": [
        "df = pd.read_csv(\"/Users/baoan/Desktop/MarketingData_final.csv\")\n",
        "df"
      ]
    },
    {
      "attachments": {},
      "cell_type": "markdown",
      "metadata": {
        "id": "KwzentFbxOqh"
      },
      "source": [
        "## TIỀN XỬ LÝ DATASET"
      ]
    },
    {
      "attachments": {},
      "cell_type": "markdown",
      "metadata": {
        "id": "OOd6p-9-xTBY"
      },
      "source": [
        "### Chuyển từ kiểu object sang số"
      ]
    },
    {
      "cell_type": "code",
      "execution_count": 32,
      "metadata": {
        "colab": {
          "base_uri": "https://localhost:8080/"
        },
        "id": "W9rrZzcuprjl",
        "outputId": "1aa92a08-8a88-4b42-fb7d-d3f02242a558"
      },
      "outputs": [
        {
          "data": {
            "text/plain": [
              "Graduation    1127\n",
              "PhD            486\n",
              "Master         370\n",
              "2n Cycle       203\n",
              "Basic           54\n",
              "Name: Education, dtype: int64"
            ]
          },
          "execution_count": 32,
          "metadata": {},
          "output_type": "execute_result"
        }
      ],
      "source": [
        "# Kiểm tra các giá trị có trong Education\n",
        "df.Education.value_counts()"
      ]
    },
    {
      "cell_type": "code",
      "execution_count": 33,
      "metadata": {
        "colab": {
          "base_uri": "https://localhost:8080/"
        },
        "id": "Pu7rO_WSprjm",
        "outputId": "a4abf658-3e86-4be8-8b0e-390bbd57da1e"
      },
      "outputs": [
        {
          "data": {
            "text/plain": [
              "Married     864\n",
              "Together    580\n",
              "Single      480\n",
              "Divorced    232\n",
              "Widow        77\n",
              "Alone         3\n",
              "Absurd        2\n",
              "YOLO          2\n",
              "Name: Marital_Status, dtype: int64"
            ]
          },
          "execution_count": 33,
          "metadata": {},
          "output_type": "execute_result"
        }
      ],
      "source": [
        "# Kiểm tra các giá trị có trong Marital_Status\n",
        "df.Marital_Status.value_counts()"
      ]
    },
    {
      "cell_type": "code",
      "execution_count": 34,
      "metadata": {
        "colab": {
          "base_uri": "https://localhost:8080/"
        },
        "id": "OjXB4sbGprjm",
        "outputId": "065e942e-0107-4d80-e367-548102e28a1f"
      },
      "outputs": [
        {
          "data": {
            "text/plain": [
              "Spain            1095\n",
              "South Africa      337\n",
              "Canada            268\n",
              "Australia         160\n",
              "India             148\n",
              "Germany           120\n",
              "United States     109\n",
              "Montenegro          3\n",
              "Name: Country, dtype: int64"
            ]
          },
          "execution_count": 34,
          "metadata": {},
          "output_type": "execute_result"
        }
      ],
      "source": [
        "# Kiểm tra các giá trị có trong Country\n",
        "df.Country.value_counts()"
      ]
    },
    {
      "cell_type": "code",
      "execution_count": 35,
      "metadata": {
        "id": "XJViHJKgprjn"
      },
      "outputs": [],
      "source": [
        "# Chuyển đổi sang dạng số\n",
        "mar_type_Education = {'Graduation': 0, 'PhD':1, 'Master':2 , '2n Cycle':3, 'Basic':4}\n",
        "mar_type_Marital_Status = {'Married': 0, 'Together':1, 'Single':2 , 'Divorced':3, 'Widow':4, 'Alone':5, 'Absurd':6, 'YOLO':7}\n",
        "mar_Country = {'Spain': 0, 'South Africa':1, 'Canada':2 , 'Australia':3, 'India':4, 'Germany':5, 'United States':6, 'Montenegro':7}\n",
        "df.Education = df.Education.map(mar_type_Education)\n",
        "df.Marital_Status = df.Marital_Status.map(mar_type_Marital_Status)\n",
        "df.Country = df.Country.map(mar_Country)"
      ]
    },
    {
      "attachments": {},
      "cell_type": "markdown",
      "metadata": {
        "id": "qHEVxkiwxdp6"
      },
      "source": [
        "### Kiểm tra và xóa các giá trị null"
      ]
    },
    {
      "cell_type": "code",
      "execution_count": 36,
      "metadata": {
        "colab": {
          "base_uri": "https://localhost:8080/"
        },
        "id": "vs9qwaa-pxtl",
        "outputId": "92c7dd60-ca2d-42bb-b665-5eafd863ea01"
      },
      "outputs": [
        {
          "data": {
            "text/plain": [
              "User_ID                0\n",
              "Year_Birth             0\n",
              "Education              0\n",
              "Marital_Status         0\n",
              "Income                24\n",
              "Kidhome                0\n",
              "Teenhome               0\n",
              "Date_Enroll            0\n",
              "Recency                0\n",
              "MntWines               0\n",
              "MntFruits              0\n",
              "Mnt_Meats              0\n",
              "Mnt_Fishs              0\n",
              "Mnt_Sweets             0\n",
              "Mnt_Golds              0\n",
              "Num_DealsPur           0\n",
              "Num_WebPur             0\n",
              "Num_CatalogPur         0\n",
              "Num_StorePur           0\n",
              "Num_WebVisitsMonth     0\n",
              "Acpt_Cmp3              0\n",
              "Acpt_Cmp4              0\n",
              "Acpt_Cmp5              0\n",
              "Acpt_Cmp1              0\n",
              "Acpt_Cmp2              0\n",
              "Complain               0\n",
              "Response               0\n",
              "Country                0\n",
              "dtype: int64"
            ]
          },
          "execution_count": 36,
          "metadata": {},
          "output_type": "execute_result"
        }
      ],
      "source": [
        "# Đếm số lượng null của từng thuộc tính\n",
        "df.isnull().sum()"
      ]
    },
    {
      "cell_type": "code",
      "execution_count": 37,
      "metadata": {
        "id": "_PrWPIPBpxtm"
      },
      "outputs": [],
      "source": [
        "# Xóa các hàng có giá null của từng thuộc tính\n",
        "df.dropna(axis=0, how='any', inplace = True)"
      ]
    },
    {
      "cell_type": "code",
      "execution_count": 38,
      "metadata": {
        "colab": {
          "base_uri": "https://localhost:8080/"
        },
        "id": "lkCZwoUnpxtm",
        "outputId": "14e34af6-a90a-450a-fe2f-5a78fb5e1386"
      },
      "outputs": [
        {
          "data": {
            "text/plain": [
              "0"
            ]
          },
          "execution_count": 38,
          "metadata": {},
          "output_type": "execute_result"
        }
      ],
      "source": [
        "# Kiểm tra lại số lượng các giá trị null\n",
        "df.isnull().sum().sum()"
      ]
    },
    {
      "cell_type": "code",
      "execution_count": 39,
      "metadata": {
        "id": "dVYhlqjJpxtm"
      },
      "outputs": [],
      "source": [
        "# Xóa thuộc tính Date_Enroll\n",
        "df.drop(['Date_Enroll'], axis=1, inplace=True)"
      ]
    },
    {
      "cell_type": "code",
      "execution_count": 40,
      "metadata": {
        "colab": {
          "base_uri": "https://localhost:8080/"
        },
        "id": "GEFKVpOxpxtn",
        "outputId": "40a3d720-25c1-45f1-9199-eb5820b248e7"
      },
      "outputs": [
        {
          "name": "stdout",
          "output_type": "stream",
          "text": [
            "<class 'pandas.core.frame.DataFrame'>\n",
            "Int64Index: 2216 entries, 0 to 2239\n",
            "Data columns (total 27 columns):\n",
            " #   Column              Non-Null Count  Dtype  \n",
            "---  ------              --------------  -----  \n",
            " 0   User_ID             2216 non-null   int64  \n",
            " 1   Year_Birth          2216 non-null   int64  \n",
            " 2   Education           2216 non-null   int64  \n",
            " 3   Marital_Status      2216 non-null   int64  \n",
            " 4   Income              2216 non-null   float64\n",
            " 5   Kidhome             2216 non-null   int64  \n",
            " 6   Teenhome            2216 non-null   int64  \n",
            " 7   Recency             2216 non-null   int64  \n",
            " 8   MntWines            2216 non-null   float64\n",
            " 9   MntFruits           2216 non-null   float64\n",
            " 10  Mnt_Meats           2216 non-null   float64\n",
            " 11  Mnt_Fishs           2216 non-null   float64\n",
            " 12  Mnt_Sweets          2216 non-null   float64\n",
            " 13  Mnt_Golds           2216 non-null   float64\n",
            " 14  Num_DealsPur        2216 non-null   int64  \n",
            " 15  Num_WebPur          2216 non-null   int64  \n",
            " 16  Num_CatalogPur      2216 non-null   int64  \n",
            " 17  Num_StorePur        2216 non-null   int64  \n",
            " 18  Num_WebVisitsMonth  2216 non-null   int64  \n",
            " 19  Acpt_Cmp3           2216 non-null   int64  \n",
            " 20  Acpt_Cmp4           2216 non-null   int64  \n",
            " 21  Acpt_Cmp5           2216 non-null   int64  \n",
            " 22  Acpt_Cmp1           2216 non-null   int64  \n",
            " 23  Acpt_Cmp2           2216 non-null   int64  \n",
            " 24  Complain            2216 non-null   int64  \n",
            " 25  Response            2216 non-null   int64  \n",
            " 26  Country             2216 non-null   int64  \n",
            "dtypes: float64(7), int64(20)\n",
            "memory usage: 484.8 KB\n"
          ]
        }
      ],
      "source": [
        "# Kiểm tra lại toàn bộ kiểu dữ liệu của các thuộc tính\n",
        "df.info()"
      ]
    },
    {
      "attachments": {},
      "cell_type": "markdown",
      "metadata": {
        "id": "poIdFMxRxF61"
      },
      "source": [
        "## PHÂN LỚP DATASET"
      ]
    },
    {
      "attachments": {},
      "cell_type": "markdown",
      "metadata": {
        "id": "XCwaCUiUFErQ"
      },
      "source": [
        "### Tách nhóm có giám sát"
      ]
    },
    {
      "cell_type": "code",
      "execution_count": 41,
      "metadata": {
        "colab": {
          "base_uri": "https://localhost:8080/"
        },
        "id": "gqCIFddT1dXN",
        "outputId": "2e945e24-2125-4258-e094-60b7636698d0"
      },
      "outputs": [
        {
          "data": {
            "text/plain": [
              "Index(['User_ID', 'Year_Birth', 'Education', 'Marital_Status', 'Income',\n",
              "       'Kidhome', 'Teenhome', 'Recency', 'MntWines', 'MntFruits', 'Mnt_Meats',\n",
              "       'Mnt_Fishs', 'Mnt_Sweets', 'Mnt_Golds', 'Num_DealsPur', 'Num_WebPur',\n",
              "       'Num_CatalogPur', 'Num_StorePur', 'Num_WebVisitsMonth', 'Acpt_Cmp3',\n",
              "       'Acpt_Cmp4', 'Acpt_Cmp5', 'Acpt_Cmp1', 'Acpt_Cmp2', 'Complain',\n",
              "       'Response', 'Country'],\n",
              "      dtype='object')"
            ]
          },
          "execution_count": 41,
          "metadata": {},
          "output_type": "execute_result"
        }
      ],
      "source": [
        "# Xem tên các cột của data\n",
        "df.columns"
      ]
    },
    {
      "cell_type": "code",
      "execution_count": 42,
      "metadata": {
        "id": "I3FPEhv65KCH"
      },
      "outputs": [],
      "source": [
        "# Lưu Response vào output\n",
        "output = df['Response']"
      ]
    },
    {
      "cell_type": "code",
      "execution_count": 43,
      "metadata": {
        "colab": {
          "base_uri": "https://localhost:8080/",
          "height": 0
        },
        "id": "JSt1HWOH1by1",
        "outputId": "9ee4979d-594a-47b7-d222-8484e58864d1"
      },
      "outputs": [
        {
          "data": {
            "text/html": [
              "<div>\n",
              "<style scoped>\n",
              "    .dataframe tbody tr th:only-of-type {\n",
              "        vertical-align: middle;\n",
              "    }\n",
              "\n",
              "    .dataframe tbody tr th {\n",
              "        vertical-align: top;\n",
              "    }\n",
              "\n",
              "    .dataframe thead th {\n",
              "        text-align: right;\n",
              "    }\n",
              "</style>\n",
              "<table border=\"1\" class=\"dataframe\">\n",
              "  <thead>\n",
              "    <tr style=\"text-align: right;\">\n",
              "      <th></th>\n",
              "      <th>MntWines</th>\n",
              "      <th>MntFruits</th>\n",
              "      <th>Mnt_Meats</th>\n",
              "      <th>Mnt_Fishs</th>\n",
              "      <th>Mnt_Sweets</th>\n",
              "    </tr>\n",
              "  </thead>\n",
              "  <tbody>\n",
              "    <tr>\n",
              "      <th>0</th>\n",
              "      <td>635.0</td>\n",
              "      <td>88.0</td>\n",
              "      <td>546.0</td>\n",
              "      <td>172.0</td>\n",
              "      <td>88.0</td>\n",
              "    </tr>\n",
              "    <tr>\n",
              "      <th>1</th>\n",
              "      <td>11.0</td>\n",
              "      <td>1.0</td>\n",
              "      <td>6.0</td>\n",
              "      <td>2.0</td>\n",
              "      <td>1.0</td>\n",
              "    </tr>\n",
              "    <tr>\n",
              "      <th>2</th>\n",
              "      <td>426.0</td>\n",
              "      <td>49.0</td>\n",
              "      <td>127.0</td>\n",
              "      <td>111.0</td>\n",
              "      <td>21.0</td>\n",
              "    </tr>\n",
              "    <tr>\n",
              "      <th>3</th>\n",
              "      <td>11.0</td>\n",
              "      <td>4.0</td>\n",
              "      <td>20.0</td>\n",
              "      <td>10.0</td>\n",
              "      <td>3.0</td>\n",
              "    </tr>\n",
              "    <tr>\n",
              "      <th>4</th>\n",
              "      <td>173.0</td>\n",
              "      <td>43.0</td>\n",
              "      <td>118.0</td>\n",
              "      <td>46.0</td>\n",
              "      <td>27.0</td>\n",
              "    </tr>\n",
              "  </tbody>\n",
              "</table>\n",
              "</div>"
            ],
            "text/plain": [
              "   MntWines  MntFruits  Mnt_Meats  Mnt_Fishs  Mnt_Sweets\n",
              "0     635.0       88.0      546.0      172.0        88.0\n",
              "1      11.0        1.0        6.0        2.0         1.0\n",
              "2     426.0       49.0      127.0      111.0        21.0\n",
              "3      11.0        4.0       20.0       10.0         3.0\n",
              "4     173.0       43.0      118.0       46.0        27.0"
            ]
          },
          "execution_count": 43,
          "metadata": {},
          "output_type": "execute_result"
        }
      ],
      "source": [
        "# Tách theo nhóm Mnt: Tổng số tiền khách hàng phải chi trả cho các mặt hàng trong 2 năm gần nhất.\n",
        "df_Mnt = df[df.columns[8:13]]\n",
        "df_Mnt.head(5)"
      ]
    },
    {
      "cell_type": "code",
      "execution_count": 44,
      "metadata": {
        "colab": {
          "base_uri": "https://localhost:8080/",
          "height": 0
        },
        "id": "P9kne4NQ2IcM",
        "outputId": "fdad5abe-d839-40fc-90b8-85f3fd6323da"
      },
      "outputs": [
        {
          "data": {
            "text/html": [
              "<div>\n",
              "<style scoped>\n",
              "    .dataframe tbody tr th:only-of-type {\n",
              "        vertical-align: middle;\n",
              "    }\n",
              "\n",
              "    .dataframe tbody tr th {\n",
              "        vertical-align: top;\n",
              "    }\n",
              "\n",
              "    .dataframe thead th {\n",
              "        text-align: right;\n",
              "    }\n",
              "</style>\n",
              "<table border=\"1\" class=\"dataframe\">\n",
              "  <thead>\n",
              "    <tr style=\"text-align: right;\">\n",
              "      <th></th>\n",
              "      <th>Num_DealsPur</th>\n",
              "      <th>Num_WebPur</th>\n",
              "      <th>Num_CatalogPur</th>\n",
              "      <th>Num_StorePur</th>\n",
              "    </tr>\n",
              "  </thead>\n",
              "  <tbody>\n",
              "    <tr>\n",
              "      <th>0</th>\n",
              "      <td>3</td>\n",
              "      <td>8</td>\n",
              "      <td>10</td>\n",
              "      <td>4</td>\n",
              "    </tr>\n",
              "    <tr>\n",
              "      <th>1</th>\n",
              "      <td>2</td>\n",
              "      <td>1</td>\n",
              "      <td>1</td>\n",
              "      <td>2</td>\n",
              "    </tr>\n",
              "    <tr>\n",
              "      <th>2</th>\n",
              "      <td>1</td>\n",
              "      <td>8</td>\n",
              "      <td>2</td>\n",
              "      <td>10</td>\n",
              "    </tr>\n",
              "    <tr>\n",
              "      <th>3</th>\n",
              "      <td>2</td>\n",
              "      <td>2</td>\n",
              "      <td>0</td>\n",
              "      <td>4</td>\n",
              "    </tr>\n",
              "    <tr>\n",
              "      <th>4</th>\n",
              "      <td>5</td>\n",
              "      <td>5</td>\n",
              "      <td>3</td>\n",
              "      <td>6</td>\n",
              "    </tr>\n",
              "  </tbody>\n",
              "</table>\n",
              "</div>"
            ],
            "text/plain": [
              "   Num_DealsPur  Num_WebPur  Num_CatalogPur  Num_StorePur\n",
              "0             3           8              10             4\n",
              "1             2           1               1             2\n",
              "2             1           8               2            10\n",
              "3             2           2               0             4\n",
              "4             5           5               3             6"
            ]
          },
          "execution_count": 44,
          "metadata": {},
          "output_type": "execute_result"
        }
      ],
      "source": [
        "# Tách theo nhóm Num: Số lượng đơn hàng mà khách hàng đã thanh toán\n",
        "df_Num = df[df.columns[14:18]]\n",
        "df_Num.head(5)"
      ]
    },
    {
      "cell_type": "code",
      "execution_count": 45,
      "metadata": {
        "colab": {
          "base_uri": "https://localhost:8080/",
          "height": 0
        },
        "id": "LXoFsWlg1uDq",
        "outputId": "9eb818b2-5097-4801-da7c-79c1a8721547"
      },
      "outputs": [
        {
          "data": {
            "text/html": [
              "<div>\n",
              "<style scoped>\n",
              "    .dataframe tbody tr th:only-of-type {\n",
              "        vertical-align: middle;\n",
              "    }\n",
              "\n",
              "    .dataframe tbody tr th {\n",
              "        vertical-align: top;\n",
              "    }\n",
              "\n",
              "    .dataframe thead th {\n",
              "        text-align: right;\n",
              "    }\n",
              "</style>\n",
              "<table border=\"1\" class=\"dataframe\">\n",
              "  <thead>\n",
              "    <tr style=\"text-align: right;\">\n",
              "      <th></th>\n",
              "      <th>Acpt_Cmp3</th>\n",
              "      <th>Acpt_Cmp4</th>\n",
              "      <th>Acpt_Cmp5</th>\n",
              "      <th>Acpt_Cmp1</th>\n",
              "      <th>Acpt_Cmp2</th>\n",
              "    </tr>\n",
              "  </thead>\n",
              "  <tbody>\n",
              "    <tr>\n",
              "      <th>0</th>\n",
              "      <td>0</td>\n",
              "      <td>0</td>\n",
              "      <td>0</td>\n",
              "      <td>0</td>\n",
              "      <td>0</td>\n",
              "    </tr>\n",
              "    <tr>\n",
              "      <th>1</th>\n",
              "      <td>0</td>\n",
              "      <td>0</td>\n",
              "      <td>0</td>\n",
              "      <td>0</td>\n",
              "      <td>0</td>\n",
              "    </tr>\n",
              "    <tr>\n",
              "      <th>2</th>\n",
              "      <td>0</td>\n",
              "      <td>0</td>\n",
              "      <td>0</td>\n",
              "      <td>0</td>\n",
              "      <td>0</td>\n",
              "    </tr>\n",
              "    <tr>\n",
              "      <th>3</th>\n",
              "      <td>0</td>\n",
              "      <td>0</td>\n",
              "      <td>0</td>\n",
              "      <td>0</td>\n",
              "      <td>0</td>\n",
              "    </tr>\n",
              "    <tr>\n",
              "      <th>4</th>\n",
              "      <td>0</td>\n",
              "      <td>0</td>\n",
              "      <td>0</td>\n",
              "      <td>0</td>\n",
              "      <td>0</td>\n",
              "    </tr>\n",
              "  </tbody>\n",
              "</table>\n",
              "</div>"
            ],
            "text/plain": [
              "   Acpt_Cmp3  Acpt_Cmp4  Acpt_Cmp5  Acpt_Cmp1  Acpt_Cmp2\n",
              "0          0          0          0          0          0\n",
              "1          0          0          0          0          0\n",
              "2          0          0          0          0          0\n",
              "3          0          0          0          0          0\n",
              "4          0          0          0          0          0"
            ]
          },
          "execution_count": 45,
          "metadata": {},
          "output_type": "execute_result"
        }
      ],
      "source": [
        "# Tách theo nhóm Acpt: Khách hàng phản hồi cho chiến dịch Marketing Campaign\n",
        "df_Acpt = df[df.columns[19:24]]\n",
        "df_Acpt.head(5)"
      ]
    },
    {
      "cell_type": "code",
      "execution_count": 46,
      "metadata": {
        "colab": {
          "base_uri": "https://localhost:8080/",
          "height": 0
        },
        "id": "jgy-wFoU7kMR",
        "outputId": "bc0f056c-dee7-4bc8-8059-bc9a44766d3f"
      },
      "outputs": [
        {
          "data": {
            "text/html": [
              "<div>\n",
              "<style scoped>\n",
              "    .dataframe tbody tr th:only-of-type {\n",
              "        vertical-align: middle;\n",
              "    }\n",
              "\n",
              "    .dataframe tbody tr th {\n",
              "        vertical-align: top;\n",
              "    }\n",
              "\n",
              "    .dataframe thead th {\n",
              "        text-align: right;\n",
              "    }\n",
              "</style>\n",
              "<table border=\"1\" class=\"dataframe\">\n",
              "  <thead>\n",
              "    <tr style=\"text-align: right;\">\n",
              "      <th></th>\n",
              "      <th>Year_Birth</th>\n",
              "      <th>Education</th>\n",
              "      <th>Marital_Status</th>\n",
              "      <th>Income</th>\n",
              "      <th>Kidhome</th>\n",
              "      <th>Teenhome</th>\n",
              "      <th>Recency</th>\n",
              "      <th>Complain</th>\n",
              "      <th>Country</th>\n",
              "    </tr>\n",
              "  </thead>\n",
              "  <tbody>\n",
              "    <tr>\n",
              "      <th>0</th>\n",
              "      <td>1957</td>\n",
              "      <td>0</td>\n",
              "      <td>2</td>\n",
              "      <td>58138.0</td>\n",
              "      <td>0</td>\n",
              "      <td>0</td>\n",
              "      <td>58</td>\n",
              "      <td>0</td>\n",
              "      <td>0</td>\n",
              "    </tr>\n",
              "    <tr>\n",
              "      <th>1</th>\n",
              "      <td>1954</td>\n",
              "      <td>0</td>\n",
              "      <td>2</td>\n",
              "      <td>46344.0</td>\n",
              "      <td>1</td>\n",
              "      <td>1</td>\n",
              "      <td>38</td>\n",
              "      <td>0</td>\n",
              "      <td>2</td>\n",
              "    </tr>\n",
              "    <tr>\n",
              "      <th>2</th>\n",
              "      <td>1965</td>\n",
              "      <td>0</td>\n",
              "      <td>1</td>\n",
              "      <td>71613.0</td>\n",
              "      <td>0</td>\n",
              "      <td>0</td>\n",
              "      <td>26</td>\n",
              "      <td>0</td>\n",
              "      <td>6</td>\n",
              "    </tr>\n",
              "    <tr>\n",
              "      <th>3</th>\n",
              "      <td>1984</td>\n",
              "      <td>0</td>\n",
              "      <td>1</td>\n",
              "      <td>26646.0</td>\n",
              "      <td>1</td>\n",
              "      <td>0</td>\n",
              "      <td>26</td>\n",
              "      <td>0</td>\n",
              "      <td>3</td>\n",
              "    </tr>\n",
              "    <tr>\n",
              "      <th>4</th>\n",
              "      <td>1981</td>\n",
              "      <td>1</td>\n",
              "      <td>0</td>\n",
              "      <td>58293.0</td>\n",
              "      <td>1</td>\n",
              "      <td>0</td>\n",
              "      <td>94</td>\n",
              "      <td>0</td>\n",
              "      <td>0</td>\n",
              "    </tr>\n",
              "  </tbody>\n",
              "</table>\n",
              "</div>"
            ],
            "text/plain": [
              "   Year_Birth  Education  Marital_Status   Income  Kidhome  Teenhome  Recency  \\\n",
              "0        1957          0               2  58138.0        0         0       58   \n",
              "1        1954          0               2  46344.0        1         1       38   \n",
              "2        1965          0               1  71613.0        0         0       26   \n",
              "3        1984          0               1  26646.0        1         0       26   \n",
              "4        1981          1               0  58293.0        1         0       94   \n",
              "\n",
              "   Complain  Country  \n",
              "0         0        0  \n",
              "1         0        2  \n",
              "2         0        6  \n",
              "3         0        3  \n",
              "4         0        0  "
            ]
          },
          "execution_count": 46,
          "metadata": {},
          "output_type": "execute_result"
        }
      ],
      "source": [
        "# Tách theo nhóm các thông tin còn lại của khách hành\n",
        "df_info = df.copy()\n",
        "df_info.drop(df.columns[8:24], axis=1, inplace=True)\n",
        "df_info.drop(['User_ID', 'Response'], axis=1, inplace=True)\n",
        "df_info.head(5)"
      ]
    },
    {
      "attachments": {},
      "cell_type": "markdown",
      "metadata": {
        "id": "_Qq-0cJH0ht5"
      },
      "source": [
        "## ÁP DỤNG MODEL MACHINE LEARNING CHO CÁC DATASET"
      ]
    },
    {
      "attachments": {},
      "cell_type": "markdown",
      "metadata": {
        "id": "5aH3QEBX0ht5"
      },
      "source": [
        "### Tạo tập Train và Test cho các lớp đã phân"
      ]
    },
    {
      "cell_type": "code",
      "execution_count": 47,
      "metadata": {
        "id": "gRaGjocE0ht5"
      },
      "outputs": [],
      "source": [
        "# Tạo tập train và test cho các nhóm\n",
        "\n",
        "X_train_Mnt, X_test_Mnt, y_train_Mnt, y_test_Mnt = train_test_split(df_Mnt, output, test_size=0.2, random_state=100)\n",
        "X_train_Num, X_test_Num, y_train_Num, y_test_Num = train_test_split(df_Num, output, test_size=0.2, random_state=100)\n",
        "X_train_Acpt, X_test_Acpt, y_train_Acpt, y_test_Acpt = train_test_split(df_Acpt, output, test_size=0.2, random_state=100)\n",
        "X_train_info, X_test_info, y_train_info, y_test_info = train_test_split(df_info, output, test_size=0.2, random_state=100)"
      ]
    },
    {
      "attachments": {},
      "cell_type": "markdown",
      "metadata": {
        "id": "HzlIqpoO0ht6"
      },
      "source": [
        "### Random Forest"
      ]
    },
    {
      "attachments": {},
      "cell_type": "markdown",
      "metadata": {
        "id": "iB_EDZkV0ht6"
      },
      "source": [
        "#### Test độ ảnh hưởng của các nhóm đã phân so với Output"
      ]
    },
    {
      "cell_type": "code",
      "execution_count": 48,
      "metadata": {
        "colab": {
          "base_uri": "https://localhost:8080/",
          "height": 74
        },
        "id": "e03Fn-6v0ht6",
        "outputId": "2ca1aeb2-2ea1-4f04-bf29-94ed1408dc4f"
      },
      "outputs": [
        {
          "data": {
            "text/html": [
              "<style>#sk-container-id-5 {color: black;background-color: white;}#sk-container-id-5 pre{padding: 0;}#sk-container-id-5 div.sk-toggleable {background-color: white;}#sk-container-id-5 label.sk-toggleable__label {cursor: pointer;display: block;width: 100%;margin-bottom: 0;padding: 0.3em;box-sizing: border-box;text-align: center;}#sk-container-id-5 label.sk-toggleable__label-arrow:before {content: \"▸\";float: left;margin-right: 0.25em;color: #696969;}#sk-container-id-5 label.sk-toggleable__label-arrow:hover:before {color: black;}#sk-container-id-5 div.sk-estimator:hover label.sk-toggleable__label-arrow:before {color: black;}#sk-container-id-5 div.sk-toggleable__content {max-height: 0;max-width: 0;overflow: hidden;text-align: left;background-color: #f0f8ff;}#sk-container-id-5 div.sk-toggleable__content pre {margin: 0.2em;color: black;border-radius: 0.25em;background-color: #f0f8ff;}#sk-container-id-5 input.sk-toggleable__control:checked~div.sk-toggleable__content {max-height: 200px;max-width: 100%;overflow: auto;}#sk-container-id-5 input.sk-toggleable__control:checked~label.sk-toggleable__label-arrow:before {content: \"▾\";}#sk-container-id-5 div.sk-estimator input.sk-toggleable__control:checked~label.sk-toggleable__label {background-color: #d4ebff;}#sk-container-id-5 div.sk-label input.sk-toggleable__control:checked~label.sk-toggleable__label {background-color: #d4ebff;}#sk-container-id-5 input.sk-hidden--visually {border: 0;clip: rect(1px 1px 1px 1px);clip: rect(1px, 1px, 1px, 1px);height: 1px;margin: -1px;overflow: hidden;padding: 0;position: absolute;width: 1px;}#sk-container-id-5 div.sk-estimator {font-family: monospace;background-color: #f0f8ff;border: 1px dotted black;border-radius: 0.25em;box-sizing: border-box;margin-bottom: 0.5em;}#sk-container-id-5 div.sk-estimator:hover {background-color: #d4ebff;}#sk-container-id-5 div.sk-parallel-item::after {content: \"\";width: 100%;border-bottom: 1px solid gray;flex-grow: 1;}#sk-container-id-5 div.sk-label:hover label.sk-toggleable__label {background-color: #d4ebff;}#sk-container-id-5 div.sk-serial::before {content: \"\";position: absolute;border-left: 1px solid gray;box-sizing: border-box;top: 0;bottom: 0;left: 50%;z-index: 0;}#sk-container-id-5 div.sk-serial {display: flex;flex-direction: column;align-items: center;background-color: white;padding-right: 0.2em;padding-left: 0.2em;position: relative;}#sk-container-id-5 div.sk-item {position: relative;z-index: 1;}#sk-container-id-5 div.sk-parallel {display: flex;align-items: stretch;justify-content: center;background-color: white;position: relative;}#sk-container-id-5 div.sk-item::before, #sk-container-id-5 div.sk-parallel-item::before {content: \"\";position: absolute;border-left: 1px solid gray;box-sizing: border-box;top: 0;bottom: 0;left: 50%;z-index: -1;}#sk-container-id-5 div.sk-parallel-item {display: flex;flex-direction: column;z-index: 1;position: relative;background-color: white;}#sk-container-id-5 div.sk-parallel-item:first-child::after {align-self: flex-end;width: 50%;}#sk-container-id-5 div.sk-parallel-item:last-child::after {align-self: flex-start;width: 50%;}#sk-container-id-5 div.sk-parallel-item:only-child::after {width: 0;}#sk-container-id-5 div.sk-dashed-wrapped {border: 1px dashed gray;margin: 0 0.4em 0.5em 0.4em;box-sizing: border-box;padding-bottom: 0.4em;background-color: white;}#sk-container-id-5 div.sk-label label {font-family: monospace;font-weight: bold;display: inline-block;line-height: 1.2em;}#sk-container-id-5 div.sk-label-container {text-align: center;}#sk-container-id-5 div.sk-container {/* jupyter's `normalize.less` sets `[hidden] { display: none; }` but bootstrap.min.css set `[hidden] { display: none !important; }` so we also need the `!important` here to be able to override the default hidden behavior on the sphinx rendered scikit-learn.org. See: https://github.com/scikit-learn/scikit-learn/issues/21755 */display: inline-block !important;position: relative;}#sk-container-id-5 div.sk-text-repr-fallback {display: none;}</style><div id=\"sk-container-id-5\" class=\"sk-top-container\"><div class=\"sk-text-repr-fallback\"><pre>RandomForestClassifier(random_state=0)</pre><b>In a Jupyter environment, please rerun this cell to show the HTML representation or trust the notebook. <br />On GitHub, the HTML representation is unable to render, please try loading this page with nbviewer.org.</b></div><div class=\"sk-container\" hidden><div class=\"sk-item\"><div class=\"sk-estimator sk-toggleable\"><input class=\"sk-toggleable__control sk-hidden--visually\" id=\"sk-estimator-id-5\" type=\"checkbox\" checked><label for=\"sk-estimator-id-5\" class=\"sk-toggleable__label sk-toggleable__label-arrow\">RandomForestClassifier</label><div class=\"sk-toggleable__content\"><pre>RandomForestClassifier(random_state=0)</pre></div></div></div></div></div>"
            ],
            "text/plain": [
              "RandomForestClassifier(random_state=0)"
            ]
          },
          "execution_count": 48,
          "metadata": {},
          "output_type": "execute_result"
        }
      ],
      "source": [
        "# Đưa tập train của các nhóm vào mô hình\n",
        "\n",
        "rf_model_Mnt = RandomForestClassifier(n_estimators=100, random_state=0)\n",
        "rf_model_Num = RandomForestClassifier(n_estimators=100, random_state=0)\n",
        "rf_model_Acpt = RandomForestClassifier(n_estimators=100, random_state=0)\n",
        "rf_model_info = RandomForestClassifier(n_estimators=100, random_state=0)\n",
        "\n",
        "rf_model_Mnt.fit(X_train_Mnt, y_train_Mnt)\n",
        "rf_model_Num.fit(X_train_Num, y_train_Num)\n",
        "rf_model_Acpt.fit(X_train_Acpt, y_train_Acpt)\n",
        "rf_model_info.fit(X_train_info, y_train_info)"
      ]
    },
    {
      "cell_type": "code",
      "execution_count": 49,
      "metadata": {
        "colab": {
          "base_uri": "https://localhost:8080/"
        },
        "id": "3FBZsS450ht6",
        "outputId": "6912438a-1730-4153-8909-71c08af9c284"
      },
      "outputs": [
        {
          "name": "stdout",
          "output_type": "stream",
          "text": [
            "Accuracy Acpt: 0.8918918918918919\n",
            "Accuracy info: 0.8828828828828829\n",
            "Accuracy Mnt: 0.8648648648648649\n",
            "Accuracy Num: 0.8220720720720721\n"
          ]
        }
      ],
      "source": [
        "# Độ chính xác theo từng nhóm cho mô hình Random Forest theo mức độ giảm dần\n",
        "\n",
        "rf_accuracy_Mnt = rf_model_Mnt.score(X_test_Mnt, y_test_Mnt)\n",
        "rf_accuracy_Num = rf_model_Num.score(X_test_Num, y_test_Num)\n",
        "rf_accuracy_Acpt = rf_model_Acpt.score(X_test_Acpt, y_test_Acpt)\n",
        "rf_accuracy_info = rf_model_info.score(X_test_info, y_test_info)\n",
        "\n",
        "rf_accuracies = [\n",
        "    (\"Accuracy Mnt:\", rf_accuracy_Mnt),\n",
        "    (\"Accuracy Num:\", rf_accuracy_Num),\n",
        "    (\"Accuracy Acpt:\", rf_accuracy_Acpt),\n",
        "    (\"Accuracy info:\", rf_accuracy_info)\n",
        "]\n",
        "\n",
        "sorted_accuracies = sorted(rf_accuracies, key=lambda x: x[1], reverse=True)\n",
        "for rf_accuracy in sorted_accuracies:\n",
        "    print(rf_accuracy[0], rf_accuracy[1])"
      ]
    },
    {
      "attachments": {},
      "cell_type": "markdown",
      "metadata": {
        "id": "p9YXrrsK0ht7"
      },
      "source": [
        "#### Test với các thuộc tính của nhóm có độ ảnh hưởng cao nhất với Output"
      ]
    },
    {
      "cell_type": "code",
      "execution_count": 50,
      "metadata": {
        "colab": {
          "base_uri": "https://localhost:8080/"
        },
        "id": "1R_AlFPG0ht7",
        "outputId": "75b3f6f9-6c9d-4cb6-b688-c45ee2af8ab7"
      },
      "outputs": [
        {
          "data": {
            "text/plain": [
              "Index(['Acpt_Cmp3', 'Acpt_Cmp4', 'Acpt_Cmp5', 'Acpt_Cmp1', 'Acpt_Cmp2'], dtype='object')"
            ]
          },
          "execution_count": 50,
          "metadata": {},
          "output_type": "execute_result"
        }
      ],
      "source": [
        "df_Acpt.columns"
      ]
    },
    {
      "cell_type": "code",
      "execution_count": 51,
      "metadata": {
        "id": "SYRWrl7k0ht7"
      },
      "outputs": [],
      "source": [
        "Acpt_Cmp1 = df_Acpt.Acpt_Cmp1.to_frame()\n",
        "Acpt_Cmp2 = df_Acpt.Acpt_Cmp2.to_frame()\n",
        "Acpt_Cmp3 = df_Acpt.Acpt_Cmp3.to_frame()\n",
        "Acpt_Cmp4 = df_Acpt.Acpt_Cmp4.to_frame()\n",
        "Acpt_Cmp5 = df_Acpt.Acpt_Cmp5.to_frame()"
      ]
    },
    {
      "cell_type": "code",
      "execution_count": 52,
      "metadata": {
        "id": "waW46BR10ht7"
      },
      "outputs": [],
      "source": [
        "\n",
        "X_train_Acpt_Cmp1, X_test_Acpt_Cmp1, y_train_Acpt_Cmp1, y_test_Acpt_Cmp1 = train_test_split(Acpt_Cmp1, output, test_size=0.2, random_state=100)\n",
        "X_train_Acpt_Cmp2, X_test_Acpt_Cmp2, y_train_Acpt_Cmp2, y_test_Acpt_Cmp2 = train_test_split(Acpt_Cmp2, output, test_size=0.2, random_state=100)\n",
        "X_train_Acpt_Cmp3, X_test_Acpt_Cmp3, y_train_Acpt_Cmp3, y_test_Acpt_Cmp3 = train_test_split(Acpt_Cmp3, output, test_size=0.2, random_state=100)\n",
        "X_train_Acpt_Cmp4, X_test_Acpt_Cmp4, y_train_Acpt_Cmp4, y_test_Acpt_Cmp4 = train_test_split(Acpt_Cmp4, output, test_size=0.2, random_state=100)\n",
        "X_train_Acpt_Cmp5, X_test_Acpt_Cmp5, y_train_Acpt_Cmp5, y_test_Acpt_Cmp5 = train_test_split(Acpt_Cmp5, output, test_size=0.2, random_state=100)\n"
      ]
    },
    {
      "cell_type": "code",
      "execution_count": 53,
      "metadata": {
        "colab": {
          "base_uri": "https://localhost:8080/",
          "height": 74
        },
        "id": "zqkT67Oz0ht8",
        "outputId": "819a4a52-177c-4ede-8973-9f66a87b4f3b"
      },
      "outputs": [
        {
          "data": {
            "text/html": [
              "<style>#sk-container-id-6 {color: black;background-color: white;}#sk-container-id-6 pre{padding: 0;}#sk-container-id-6 div.sk-toggleable {background-color: white;}#sk-container-id-6 label.sk-toggleable__label {cursor: pointer;display: block;width: 100%;margin-bottom: 0;padding: 0.3em;box-sizing: border-box;text-align: center;}#sk-container-id-6 label.sk-toggleable__label-arrow:before {content: \"▸\";float: left;margin-right: 0.25em;color: #696969;}#sk-container-id-6 label.sk-toggleable__label-arrow:hover:before {color: black;}#sk-container-id-6 div.sk-estimator:hover label.sk-toggleable__label-arrow:before {color: black;}#sk-container-id-6 div.sk-toggleable__content {max-height: 0;max-width: 0;overflow: hidden;text-align: left;background-color: #f0f8ff;}#sk-container-id-6 div.sk-toggleable__content pre {margin: 0.2em;color: black;border-radius: 0.25em;background-color: #f0f8ff;}#sk-container-id-6 input.sk-toggleable__control:checked~div.sk-toggleable__content {max-height: 200px;max-width: 100%;overflow: auto;}#sk-container-id-6 input.sk-toggleable__control:checked~label.sk-toggleable__label-arrow:before {content: \"▾\";}#sk-container-id-6 div.sk-estimator input.sk-toggleable__control:checked~label.sk-toggleable__label {background-color: #d4ebff;}#sk-container-id-6 div.sk-label input.sk-toggleable__control:checked~label.sk-toggleable__label {background-color: #d4ebff;}#sk-container-id-6 input.sk-hidden--visually {border: 0;clip: rect(1px 1px 1px 1px);clip: rect(1px, 1px, 1px, 1px);height: 1px;margin: -1px;overflow: hidden;padding: 0;position: absolute;width: 1px;}#sk-container-id-6 div.sk-estimator {font-family: monospace;background-color: #f0f8ff;border: 1px dotted black;border-radius: 0.25em;box-sizing: border-box;margin-bottom: 0.5em;}#sk-container-id-6 div.sk-estimator:hover {background-color: #d4ebff;}#sk-container-id-6 div.sk-parallel-item::after {content: \"\";width: 100%;border-bottom: 1px solid gray;flex-grow: 1;}#sk-container-id-6 div.sk-label:hover label.sk-toggleable__label {background-color: #d4ebff;}#sk-container-id-6 div.sk-serial::before {content: \"\";position: absolute;border-left: 1px solid gray;box-sizing: border-box;top: 0;bottom: 0;left: 50%;z-index: 0;}#sk-container-id-6 div.sk-serial {display: flex;flex-direction: column;align-items: center;background-color: white;padding-right: 0.2em;padding-left: 0.2em;position: relative;}#sk-container-id-6 div.sk-item {position: relative;z-index: 1;}#sk-container-id-6 div.sk-parallel {display: flex;align-items: stretch;justify-content: center;background-color: white;position: relative;}#sk-container-id-6 div.sk-item::before, #sk-container-id-6 div.sk-parallel-item::before {content: \"\";position: absolute;border-left: 1px solid gray;box-sizing: border-box;top: 0;bottom: 0;left: 50%;z-index: -1;}#sk-container-id-6 div.sk-parallel-item {display: flex;flex-direction: column;z-index: 1;position: relative;background-color: white;}#sk-container-id-6 div.sk-parallel-item:first-child::after {align-self: flex-end;width: 50%;}#sk-container-id-6 div.sk-parallel-item:last-child::after {align-self: flex-start;width: 50%;}#sk-container-id-6 div.sk-parallel-item:only-child::after {width: 0;}#sk-container-id-6 div.sk-dashed-wrapped {border: 1px dashed gray;margin: 0 0.4em 0.5em 0.4em;box-sizing: border-box;padding-bottom: 0.4em;background-color: white;}#sk-container-id-6 div.sk-label label {font-family: monospace;font-weight: bold;display: inline-block;line-height: 1.2em;}#sk-container-id-6 div.sk-label-container {text-align: center;}#sk-container-id-6 div.sk-container {/* jupyter's `normalize.less` sets `[hidden] { display: none; }` but bootstrap.min.css set `[hidden] { display: none !important; }` so we also need the `!important` here to be able to override the default hidden behavior on the sphinx rendered scikit-learn.org. See: https://github.com/scikit-learn/scikit-learn/issues/21755 */display: inline-block !important;position: relative;}#sk-container-id-6 div.sk-text-repr-fallback {display: none;}</style><div id=\"sk-container-id-6\" class=\"sk-top-container\"><div class=\"sk-text-repr-fallback\"><pre>RandomForestClassifier(n_estimators=3, random_state=0)</pre><b>In a Jupyter environment, please rerun this cell to show the HTML representation or trust the notebook. <br />On GitHub, the HTML representation is unable to render, please try loading this page with nbviewer.org.</b></div><div class=\"sk-container\" hidden><div class=\"sk-item\"><div class=\"sk-estimator sk-toggleable\"><input class=\"sk-toggleable__control sk-hidden--visually\" id=\"sk-estimator-id-6\" type=\"checkbox\" checked><label for=\"sk-estimator-id-6\" class=\"sk-toggleable__label sk-toggleable__label-arrow\">RandomForestClassifier</label><div class=\"sk-toggleable__content\"><pre>RandomForestClassifier(n_estimators=3, random_state=0)</pre></div></div></div></div></div>"
            ],
            "text/plain": [
              "RandomForestClassifier(n_estimators=3, random_state=0)"
            ]
          },
          "execution_count": 53,
          "metadata": {},
          "output_type": "execute_result"
        }
      ],
      "source": [
        "rf_model_Acpt_Cmp1 = RandomForestClassifier(n_estimators=3, random_state=0)\n",
        "rf_model_Acpt_Cmp2 = RandomForestClassifier(n_estimators=3, random_state=0)\n",
        "rf_model_Acpt_Cmp3 = RandomForestClassifier(n_estimators=3, random_state=0)\n",
        "rf_model_Acpt_Cmp4 = RandomForestClassifier(n_estimators=3, random_state=0)\n",
        "rf_model_Acpt_Cmp5 = RandomForestClassifier(n_estimators=3, random_state=0)\n",
        "\n",
        "rf_model_Acpt_Cmp1.fit(X_train_Acpt_Cmp1, y_train_Acpt_Cmp1)\n",
        "rf_model_Acpt_Cmp2.fit(X_train_Acpt_Cmp2, y_train_Acpt_Cmp2)\n",
        "rf_model_Acpt_Cmp3.fit(X_train_Acpt_Cmp3, y_train_Acpt_Cmp3)\n",
        "rf_model_Acpt_Cmp4.fit(X_train_Acpt_Cmp4, y_train_Acpt_Cmp4)\n",
        "rf_model_Acpt_Cmp5.fit(X_train_Acpt_Cmp5, y_train_Acpt_Cmp5)"
      ]
    },
    {
      "cell_type": "code",
      "execution_count": 54,
      "metadata": {
        "colab": {
          "base_uri": "https://localhost:8080/"
        },
        "id": "QtnBvVbT0ht8",
        "outputId": "2da22b83-c403-4174-c163-2cc4cf2b2c4b"
      },
      "outputs": [
        {
          "name": "stdout",
          "output_type": "stream",
          "text": [
            "Accuracy Acpt.Cmp2: 0.8693693693693694\n",
            "Accuracy Acpt.Cmp1: 0.8671171171171171\n",
            "Accuracy Acpt.Cmp3: 0.8648648648648649\n",
            "Accuracy Acpt.Cmp4: 0.8648648648648649\n",
            "Accuracy Acpt.Cmp5: 0.8648648648648649\n"
          ]
        }
      ],
      "source": [
        "# Độ chính xác theo từng thuộc tính của nhóm Acpt cho mô hình Random Forest theo mức độ giảm dần\n",
        "\n",
        "rf_accuracy_Acpt_Cmp1 = rf_model_Acpt_Cmp1.score(X_test_Acpt_Cmp1, y_test_Acpt_Cmp1)\n",
        "rf_accuracy_Acpt_Cmp2 = rf_model_Acpt_Cmp2.score(X_test_Acpt_Cmp2, y_test_Acpt_Cmp2)\n",
        "rf_accuracy_Acpt_Cmp3 = rf_model_Acpt_Cmp3.score(X_test_Acpt_Cmp3, y_test_Acpt_Cmp3)\n",
        "rf_accuracy_Acpt_Cmp4 = rf_model_Acpt_Cmp4.score(X_test_Acpt_Cmp4, y_test_Acpt_Cmp4)\n",
        "rf_accuracy_Acpt_Cmp5 = rf_model_Acpt_Cmp5.score(X_test_Acpt_Cmp5, y_test_Acpt_Cmp5)\n",
        "\n",
        "rf_accuracies_Acpt = [\n",
        "    (\"Accuracy Acpt.Cmp1:\", rf_accuracy_Acpt_Cmp1),\n",
        "    (\"Accuracy Acpt.Cmp2:\", rf_accuracy_Acpt_Cmp2),\n",
        "    (\"Accuracy Acpt.Cmp3:\", rf_accuracy_Acpt_Cmp3),\n",
        "    (\"Accuracy Acpt.Cmp4:\", rf_accuracy_Acpt_Cmp4),\n",
        "    (\"Accuracy Acpt.Cmp5:\", rf_accuracy_Acpt_Cmp5)\n",
        "   \n",
        "]\n",
        "\n",
        "sorted_accuracies_Acpt = sorted(rf_accuracies_Acpt, key=lambda x: x[1], reverse=True)\n",
        "for rf_accuracy_Acpt in sorted_accuracies_Acpt:\n",
        "    print(rf_accuracy_Acpt[0], rf_accuracy_Acpt[1])"
      ]
    },
    {
      "attachments": {},
      "cell_type": "markdown",
      "metadata": {
        "id": "BMp3ZIUS0ht8"
      },
      "source": [
        "### Decision Tree"
      ]
    },
    {
      "attachments": {},
      "cell_type": "markdown",
      "metadata": {
        "id": "VJCOWzrD0ht8"
      },
      "source": [
        "#### Test độ ảnh hưởng của các nhóm đã phân so với Output"
      ]
    },
    {
      "cell_type": "code",
      "execution_count": 55,
      "metadata": {
        "colab": {
          "base_uri": "https://localhost:8080/",
          "height": 74
        },
        "id": "APJu0K4f0ht9",
        "outputId": "11acb24a-0371-44a7-a563-955a79c741e9"
      },
      "outputs": [
        {
          "data": {
            "text/html": [
              "<style>#sk-container-id-7 {color: black;background-color: white;}#sk-container-id-7 pre{padding: 0;}#sk-container-id-7 div.sk-toggleable {background-color: white;}#sk-container-id-7 label.sk-toggleable__label {cursor: pointer;display: block;width: 100%;margin-bottom: 0;padding: 0.3em;box-sizing: border-box;text-align: center;}#sk-container-id-7 label.sk-toggleable__label-arrow:before {content: \"▸\";float: left;margin-right: 0.25em;color: #696969;}#sk-container-id-7 label.sk-toggleable__label-arrow:hover:before {color: black;}#sk-container-id-7 div.sk-estimator:hover label.sk-toggleable__label-arrow:before {color: black;}#sk-container-id-7 div.sk-toggleable__content {max-height: 0;max-width: 0;overflow: hidden;text-align: left;background-color: #f0f8ff;}#sk-container-id-7 div.sk-toggleable__content pre {margin: 0.2em;color: black;border-radius: 0.25em;background-color: #f0f8ff;}#sk-container-id-7 input.sk-toggleable__control:checked~div.sk-toggleable__content {max-height: 200px;max-width: 100%;overflow: auto;}#sk-container-id-7 input.sk-toggleable__control:checked~label.sk-toggleable__label-arrow:before {content: \"▾\";}#sk-container-id-7 div.sk-estimator input.sk-toggleable__control:checked~label.sk-toggleable__label {background-color: #d4ebff;}#sk-container-id-7 div.sk-label input.sk-toggleable__control:checked~label.sk-toggleable__label {background-color: #d4ebff;}#sk-container-id-7 input.sk-hidden--visually {border: 0;clip: rect(1px 1px 1px 1px);clip: rect(1px, 1px, 1px, 1px);height: 1px;margin: -1px;overflow: hidden;padding: 0;position: absolute;width: 1px;}#sk-container-id-7 div.sk-estimator {font-family: monospace;background-color: #f0f8ff;border: 1px dotted black;border-radius: 0.25em;box-sizing: border-box;margin-bottom: 0.5em;}#sk-container-id-7 div.sk-estimator:hover {background-color: #d4ebff;}#sk-container-id-7 div.sk-parallel-item::after {content: \"\";width: 100%;border-bottom: 1px solid gray;flex-grow: 1;}#sk-container-id-7 div.sk-label:hover label.sk-toggleable__label {background-color: #d4ebff;}#sk-container-id-7 div.sk-serial::before {content: \"\";position: absolute;border-left: 1px solid gray;box-sizing: border-box;top: 0;bottom: 0;left: 50%;z-index: 0;}#sk-container-id-7 div.sk-serial {display: flex;flex-direction: column;align-items: center;background-color: white;padding-right: 0.2em;padding-left: 0.2em;position: relative;}#sk-container-id-7 div.sk-item {position: relative;z-index: 1;}#sk-container-id-7 div.sk-parallel {display: flex;align-items: stretch;justify-content: center;background-color: white;position: relative;}#sk-container-id-7 div.sk-item::before, #sk-container-id-7 div.sk-parallel-item::before {content: \"\";position: absolute;border-left: 1px solid gray;box-sizing: border-box;top: 0;bottom: 0;left: 50%;z-index: -1;}#sk-container-id-7 div.sk-parallel-item {display: flex;flex-direction: column;z-index: 1;position: relative;background-color: white;}#sk-container-id-7 div.sk-parallel-item:first-child::after {align-self: flex-end;width: 50%;}#sk-container-id-7 div.sk-parallel-item:last-child::after {align-self: flex-start;width: 50%;}#sk-container-id-7 div.sk-parallel-item:only-child::after {width: 0;}#sk-container-id-7 div.sk-dashed-wrapped {border: 1px dashed gray;margin: 0 0.4em 0.5em 0.4em;box-sizing: border-box;padding-bottom: 0.4em;background-color: white;}#sk-container-id-7 div.sk-label label {font-family: monospace;font-weight: bold;display: inline-block;line-height: 1.2em;}#sk-container-id-7 div.sk-label-container {text-align: center;}#sk-container-id-7 div.sk-container {/* jupyter's `normalize.less` sets `[hidden] { display: none; }` but bootstrap.min.css set `[hidden] { display: none !important; }` so we also need the `!important` here to be able to override the default hidden behavior on the sphinx rendered scikit-learn.org. See: https://github.com/scikit-learn/scikit-learn/issues/21755 */display: inline-block !important;position: relative;}#sk-container-id-7 div.sk-text-repr-fallback {display: none;}</style><div id=\"sk-container-id-7\" class=\"sk-top-container\"><div class=\"sk-text-repr-fallback\"><pre>DecisionTreeClassifier(random_state=0)</pre><b>In a Jupyter environment, please rerun this cell to show the HTML representation or trust the notebook. <br />On GitHub, the HTML representation is unable to render, please try loading this page with nbviewer.org.</b></div><div class=\"sk-container\" hidden><div class=\"sk-item\"><div class=\"sk-estimator sk-toggleable\"><input class=\"sk-toggleable__control sk-hidden--visually\" id=\"sk-estimator-id-7\" type=\"checkbox\" checked><label for=\"sk-estimator-id-7\" class=\"sk-toggleable__label sk-toggleable__label-arrow\">DecisionTreeClassifier</label><div class=\"sk-toggleable__content\"><pre>DecisionTreeClassifier(random_state=0)</pre></div></div></div></div></div>"
            ],
            "text/plain": [
              "DecisionTreeClassifier(random_state=0)"
            ]
          },
          "execution_count": 55,
          "metadata": {},
          "output_type": "execute_result"
        }
      ],
      "source": [
        "# Đưa tập train của các nhóm vào mô hình\n",
        "\n",
        "dt_model_Mnt = DecisionTreeClassifier(random_state=0)\n",
        "dt_model_Num = DecisionTreeClassifier(random_state=0)\n",
        "dt_model_Acpt = DecisionTreeClassifier(random_state=0)\n",
        "dt_model_info = DecisionTreeClassifier(random_state=0)\n",
        "\n",
        "dt_model_Mnt.fit(X_train_Mnt, y_train_Mnt)\n",
        "dt_model_Num.fit(X_train_Num, y_train_Num)\n",
        "dt_model_Acpt.fit(X_train_Acpt, y_train_Acpt)\n",
        "dt_model_info.fit(X_train_info, y_train_info)"
      ]
    },
    {
      "cell_type": "code",
      "execution_count": 56,
      "metadata": {
        "colab": {
          "base_uri": "https://localhost:8080/"
        },
        "id": "jDzd7eBH0huQ",
        "outputId": "76bead41-6e1b-4856-f9ca-2452a2396b16"
      },
      "outputs": [
        {
          "name": "stdout",
          "output_type": "stream",
          "text": [
            "Accuracy Acpt: 0.8918918918918919\n",
            "Accuracy Num: 0.831081081081081\n",
            "Accuracy info: 0.8175675675675675\n",
            "Accuracy Mnt: 0.8063063063063063\n"
          ]
        }
      ],
      "source": [
        "# Độ chính xác theo từng nhóm cho mô hình Decision Tree\n",
        "\n",
        "dt_accuracy_Mnt = dt_model_Mnt.score(X_test_Mnt, y_test_Mnt)\n",
        "dt_accuracy_Num = dt_model_Num.score(X_test_Num, y_test_Num)\n",
        "dt_accuracy_Acpt = dt_model_Acpt.score(X_test_Acpt, y_test_Acpt)\n",
        "dt_accuracy_info = dt_model_info.score(X_test_info, y_test_info)\n",
        "\n",
        "dt_accuracies = [\n",
        "    (\"Accuracy Mnt:\", dt_accuracy_Mnt),\n",
        "    (\"Accuracy Num:\", dt_accuracy_Num),\n",
        "    (\"Accuracy Acpt:\", dt_accuracy_Acpt),\n",
        "    (\"Accuracy info:\", dt_accuracy_info)\n",
        "]\n",
        "\n",
        "sorted_accuracies = sorted(dt_accuracies, key=lambda x: x[1], reverse=True)\n",
        "for dt_accuracy in sorted_accuracies:\n",
        "    print(dt_accuracy[0], dt_accuracy[1])"
      ]
    },
    {
      "attachments": {},
      "cell_type": "markdown",
      "metadata": {
        "id": "r8KEovR30huQ"
      },
      "source": [
        "#### Test với thuộc tính của nhóm có độ ảnh hưởng cao nhất so với Output"
      ]
    },
    {
      "cell_type": "code",
      "execution_count": 57,
      "metadata": {
        "colab": {
          "base_uri": "https://localhost:8080/",
          "height": 74
        },
        "id": "X8kmiboS0huR",
        "outputId": "89cb4649-6ef9-4cfc-c5cb-c8bb6ee48cee"
      },
      "outputs": [
        {
          "data": {
            "text/html": [
              "<style>#sk-container-id-8 {color: black;background-color: white;}#sk-container-id-8 pre{padding: 0;}#sk-container-id-8 div.sk-toggleable {background-color: white;}#sk-container-id-8 label.sk-toggleable__label {cursor: pointer;display: block;width: 100%;margin-bottom: 0;padding: 0.3em;box-sizing: border-box;text-align: center;}#sk-container-id-8 label.sk-toggleable__label-arrow:before {content: \"▸\";float: left;margin-right: 0.25em;color: #696969;}#sk-container-id-8 label.sk-toggleable__label-arrow:hover:before {color: black;}#sk-container-id-8 div.sk-estimator:hover label.sk-toggleable__label-arrow:before {color: black;}#sk-container-id-8 div.sk-toggleable__content {max-height: 0;max-width: 0;overflow: hidden;text-align: left;background-color: #f0f8ff;}#sk-container-id-8 div.sk-toggleable__content pre {margin: 0.2em;color: black;border-radius: 0.25em;background-color: #f0f8ff;}#sk-container-id-8 input.sk-toggleable__control:checked~div.sk-toggleable__content {max-height: 200px;max-width: 100%;overflow: auto;}#sk-container-id-8 input.sk-toggleable__control:checked~label.sk-toggleable__label-arrow:before {content: \"▾\";}#sk-container-id-8 div.sk-estimator input.sk-toggleable__control:checked~label.sk-toggleable__label {background-color: #d4ebff;}#sk-container-id-8 div.sk-label input.sk-toggleable__control:checked~label.sk-toggleable__label {background-color: #d4ebff;}#sk-container-id-8 input.sk-hidden--visually {border: 0;clip: rect(1px 1px 1px 1px);clip: rect(1px, 1px, 1px, 1px);height: 1px;margin: -1px;overflow: hidden;padding: 0;position: absolute;width: 1px;}#sk-container-id-8 div.sk-estimator {font-family: monospace;background-color: #f0f8ff;border: 1px dotted black;border-radius: 0.25em;box-sizing: border-box;margin-bottom: 0.5em;}#sk-container-id-8 div.sk-estimator:hover {background-color: #d4ebff;}#sk-container-id-8 div.sk-parallel-item::after {content: \"\";width: 100%;border-bottom: 1px solid gray;flex-grow: 1;}#sk-container-id-8 div.sk-label:hover label.sk-toggleable__label {background-color: #d4ebff;}#sk-container-id-8 div.sk-serial::before {content: \"\";position: absolute;border-left: 1px solid gray;box-sizing: border-box;top: 0;bottom: 0;left: 50%;z-index: 0;}#sk-container-id-8 div.sk-serial {display: flex;flex-direction: column;align-items: center;background-color: white;padding-right: 0.2em;padding-left: 0.2em;position: relative;}#sk-container-id-8 div.sk-item {position: relative;z-index: 1;}#sk-container-id-8 div.sk-parallel {display: flex;align-items: stretch;justify-content: center;background-color: white;position: relative;}#sk-container-id-8 div.sk-item::before, #sk-container-id-8 div.sk-parallel-item::before {content: \"\";position: absolute;border-left: 1px solid gray;box-sizing: border-box;top: 0;bottom: 0;left: 50%;z-index: -1;}#sk-container-id-8 div.sk-parallel-item {display: flex;flex-direction: column;z-index: 1;position: relative;background-color: white;}#sk-container-id-8 div.sk-parallel-item:first-child::after {align-self: flex-end;width: 50%;}#sk-container-id-8 div.sk-parallel-item:last-child::after {align-self: flex-start;width: 50%;}#sk-container-id-8 div.sk-parallel-item:only-child::after {width: 0;}#sk-container-id-8 div.sk-dashed-wrapped {border: 1px dashed gray;margin: 0 0.4em 0.5em 0.4em;box-sizing: border-box;padding-bottom: 0.4em;background-color: white;}#sk-container-id-8 div.sk-label label {font-family: monospace;font-weight: bold;display: inline-block;line-height: 1.2em;}#sk-container-id-8 div.sk-label-container {text-align: center;}#sk-container-id-8 div.sk-container {/* jupyter's `normalize.less` sets `[hidden] { display: none; }` but bootstrap.min.css set `[hidden] { display: none !important; }` so we also need the `!important` here to be able to override the default hidden behavior on the sphinx rendered scikit-learn.org. See: https://github.com/scikit-learn/scikit-learn/issues/21755 */display: inline-block !important;position: relative;}#sk-container-id-8 div.sk-text-repr-fallback {display: none;}</style><div id=\"sk-container-id-8\" class=\"sk-top-container\"><div class=\"sk-text-repr-fallback\"><pre>DecisionTreeClassifier(random_state=0)</pre><b>In a Jupyter environment, please rerun this cell to show the HTML representation or trust the notebook. <br />On GitHub, the HTML representation is unable to render, please try loading this page with nbviewer.org.</b></div><div class=\"sk-container\" hidden><div class=\"sk-item\"><div class=\"sk-estimator sk-toggleable\"><input class=\"sk-toggleable__control sk-hidden--visually\" id=\"sk-estimator-id-8\" type=\"checkbox\" checked><label for=\"sk-estimator-id-8\" class=\"sk-toggleable__label sk-toggleable__label-arrow\">DecisionTreeClassifier</label><div class=\"sk-toggleable__content\"><pre>DecisionTreeClassifier(random_state=0)</pre></div></div></div></div></div>"
            ],
            "text/plain": [
              "DecisionTreeClassifier(random_state=0)"
            ]
          },
          "execution_count": 57,
          "metadata": {},
          "output_type": "execute_result"
        }
      ],
      "source": [
        "dt_model_Acpt_Cmp1 = DecisionTreeClassifier(random_state=0)\n",
        "dt_model_Acpt_Cmp2 = DecisionTreeClassifier(random_state=0)\n",
        "dt_model_Acpt_Cmp3 = DecisionTreeClassifier(random_state=0)\n",
        "dt_model_Acpt_Cmp4 = DecisionTreeClassifier(random_state=0)\n",
        "dt_model_Acpt_Cmp5 = DecisionTreeClassifier(random_state=0)\n",
        "\n",
        "dt_model_Acpt_Cmp1.fit(X_train_Acpt_Cmp1, y_train_Acpt_Cmp1)\n",
        "dt_model_Acpt_Cmp2.fit(X_train_Acpt_Cmp2, y_train_Acpt_Cmp2)\n",
        "dt_model_Acpt_Cmp3.fit(X_train_Acpt_Cmp3, y_train_Acpt_Cmp3)\n",
        "dt_model_Acpt_Cmp4.fit(X_train_Acpt_Cmp4, y_train_Acpt_Cmp4)\n",
        "dt_model_Acpt_Cmp5.fit(X_train_Acpt_Cmp5, y_train_Acpt_Cmp5)"
      ]
    },
    {
      "cell_type": "code",
      "execution_count": 58,
      "metadata": {
        "colab": {
          "base_uri": "https://localhost:8080/"
        },
        "id": "t7nuI2MH0huR",
        "outputId": "ff41def3-220f-4e57-ba11-a0cb54eb929b"
      },
      "outputs": [
        {
          "name": "stdout",
          "output_type": "stream",
          "text": [
            "Accuracy Acpt.Cmp5: 0.8806306306306306\n",
            "Accuracy Acpt.Cmp2: 0.8693693693693694\n",
            "Accuracy Acpt.Cmp1: 0.8671171171171171\n",
            "Accuracy Acpt.Cmp3: 0.8648648648648649\n",
            "Accuracy Acpt.Cmp4: 0.8648648648648649\n"
          ]
        }
      ],
      "source": [
        "# Độ chính xác theo từng thuộc tính của nhóm Acpt cho mô hình Decision Trê theo mức độ giảm dần\n",
        "\n",
        "dt_accuracy_Acpt_Cmp1 = dt_model_Acpt_Cmp1.score(X_test_Acpt_Cmp1, y_test_Acpt_Cmp1)\n",
        "dt_accuracy_Acpt_Cmp2 = dt_model_Acpt_Cmp2.score(X_test_Acpt_Cmp2, y_test_Acpt_Cmp2)\n",
        "dt_accuracy_Acpt_Cmp3 = dt_model_Acpt_Cmp3.score(X_test_Acpt_Cmp3, y_test_Acpt_Cmp3)\n",
        "dt_accuracy_Acpt_Cmp4 = dt_model_Acpt_Cmp4.score(X_test_Acpt_Cmp4, y_test_Acpt_Cmp4)\n",
        "dt_accuracy_Acpt_Cmp5 = dt_model_Acpt_Cmp5.score(X_test_Acpt_Cmp5, y_test_Acpt_Cmp5)\n",
        "\n",
        "dt_accuracies_Acpt = [\n",
        "    (\"Accuracy Acpt.Cmp1:\", dt_accuracy_Acpt_Cmp1),\n",
        "    (\"Accuracy Acpt.Cmp2:\", dt_accuracy_Acpt_Cmp2),\n",
        "    (\"Accuracy Acpt.Cmp3:\", dt_accuracy_Acpt_Cmp3),\n",
        "    (\"Accuracy Acpt.Cmp4:\", dt_accuracy_Acpt_Cmp4),\n",
        "    (\"Accuracy Acpt.Cmp5:\", dt_accuracy_Acpt_Cmp5)\n",
        "   \n",
        "]\n",
        "\n",
        "sorted_accuracies_Acpt = sorted(dt_accuracies_Acpt, key=lambda x: x[1], reverse=True)\n",
        "for dt_accuracy_Acpt in sorted_accuracies_Acpt:\n",
        "    print(dt_accuracy_Acpt[0], dt_accuracy_Acpt[1])"
      ]
    },
    {
      "attachments": {},
      "cell_type": "markdown",
      "metadata": {},
      "source": [
        "## NHẬN XÉT KẾT QUẢ BẰNG BIỂU ĐỒ"
      ]
    },
    {
      "cell_type": "code",
      "execution_count": 9,
      "metadata": {},
      "outputs": [
        {
          "data": {
            "image/png": "[encoded data removed]",
            "text/plain": [
              "<Figure size 1000x700 with 2 Axes>"
            ]
          },
          "metadata": {},
          "output_type": "display_data"
        }
      ],
      "source": [
        "acpt_cmp5 = df['Acpt_Cmp5']\n",
        "user_id = df['User_ID']\n",
        "response = df['Response']\n",
        "\n",
        "plt.scatter(user_id, acpt_cmp5, c=response, cmap='viridis')\n",
        "plt.colorbar(label='Response')\n",
        "plt.xlabel('User ID')\n",
        "plt.ylabel('Acpt_Cmp5')\n",
        "plt.title('Biểu đồ giữa Acpt_Cmp5 và User ID với đường Respond')\n",
        "plt.show()"
      ]
    }
  ],
  "metadata": {
    "colab": {
      "provenance": []
    },
    "kernelspec": {
      "display_name": "Python 3",
      "language": "python",
      "name": "python3"
    },
    "language_info": {
      "codemirror_mode": {
        "name": "ipython",
        "version": 3
      },
      "file_extension": ".py",
      "mimetype": "text/x-python",
      "name": "python",
      "nbconvert_exporter": "python",
      "pygments_lexer": "ipython3",
      "version": "3.11.2"
    },
    "orig_nbformat": 4
  },
  "nbformat": 4,
  "nbformat_minor": 0
}
